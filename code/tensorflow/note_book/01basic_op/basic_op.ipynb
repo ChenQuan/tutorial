{
 "cells": [
  {
   "cell_type": "code",
   "execution_count": 2,
   "metadata": {
    "collapsed": true
   },
   "outputs": [],
   "source": [
    "\n",
    "import numpy as np\n",
    "import tensorflow as tf\n",
    "\n",
    "\n",
    "tf.set_random_seed(2019)\n",
    "__author__ = 'Chen Quan'\n"
   ]
  },
  {
   "cell_type": "markdown",
   "metadata": {},
   "source": [
    "## 标量运算\n"
   ]
  },
  {
   "cell_type": "code",
   "execution_count": 3,
   "metadata": {},
   "outputs": [],
   "source": [
    "\n",
    "a = tf.constant(2)\n",
    "b = tf.constant(3)\n"
   ]
  },
  {
   "cell_type": "code",
   "execution_count": 4,
   "metadata": {},
   "outputs": [
    {
     "name": "stdout",
     "output_type": "stream",
     "text": [
      "a=2, b=3\n"
     ]
    },
    {
     "name": "stdout",
     "output_type": "stream",
     "text": [
      "加法操作: 5\n加法操作: 5\n减法操作: -1\n减法操作: -1\n乘法操作: 6\n乘法操作: 6\n"
     ]
    },
    {
     "name": "stdout",
     "output_type": "stream",
     "text": [
      "除法操作: 0\n除法操作: 0\n"
     ]
    }
   ],
   "source": [
    "with tf.Session() as sess:\n",
    "    print(\"a=2, b=3\")\n",
    "    print(\"加法操作: %i\" % sess.run(a + b))\n",
    "    print(\"加法操作: %i\" % sess.run(tf.add(a, b)))\n",
    "\n",
    "    print(\"减法操作: %i\" % sess.run(a - b))\n",
    "    print(\"减法操作: %i\" % sess.run(tf.subtract(a, b)))\n",
    "\n",
    "    print(\"乘法操作: %i\" % sess.run(a * b))\n",
    "    print(\"乘法操作: %i\" % sess.run(tf.multiply(a, b)))\n",
    "\n",
    "    print(\"除法操作: %i\" % sess.run(a / b))\n",
    "    print(\"除法操作: %i\" % sess.run(tf.divide(a, b)))\n"
   ]
  },
  {
   "cell_type": "markdown",
   "metadata": {},
   "source": [
    "## 矩阵运算"
   ]
  },
  {
   "cell_type": "code",
   "execution_count": 6,
   "metadata": {},
   "outputs": [],
   "source": [
    "# 使用numpy生成随机矩阵\n",
    "a_numpy = np.random.randn(4, 3)\n",
    "b_numpy = np.random.randn(3, 5)\n",
    "c_numpy = np.random.randn(4, 3)\n"
   ]
  },
  {
   "cell_type": "code",
   "execution_count": 9,
   "metadata": {},
   "outputs": [],
   "source": [
    "# 转为tensor\n",
    "a = tf.constant(a_numpy)\n",
    "b = tf.constant(b_numpy)\n",
    "c = tf.constant(c_numpy)\n"
   ]
  },
  {
   "cell_type": "code",
   "execution_count": 15,
   "metadata": {},
   "outputs": [
    {
     "name": "stdout",
     "output_type": "stream",
     "text": [
      "a Tensor(\"Const_5:0\", shape=(4, 3), dtype=float64)\nb Tensor(\"Const_6:0\", shape=(3, 5), dtype=float64)\nc Tensor(\"Const_7:0\", shape=(4, 3), dtype=float64)\n=================\n矩阵点乘法操作: [[ 1.34700791  1.70172768 -0.68036544  0.0944788   2.35866495]\n [ 1.01005166  2.43171995  0.57547699 -0.76557106 -0.03204286]\n [ 0.56621083 -0.31803585 -0.05614873 -0.68276543 -0.01929425]\n [-0.30716183 -1.04008531 -0.7171643   0.76852734  1.04520535]]\n矩阵点乘法操作:  [[ 1.34700791  1.70172768 -0.68036544  0.0944788   2.35866495]\n [ 1.01005166  2.43171995  0.57547699 -0.76557106 -0.03204286]\n [ 0.56621083 -0.31803585 -0.05614873 -0.68276543 -0.01929425]\n [-0.30716183 -1.04008531 -0.7171643   0.76852734  1.04520535]]\n矩阵叉乘法操作:  [[ 0.18482089  0.79122297  0.8281558 ]\n [-0.02844849 -4.33270243  0.01406832]\n [-1.00332284  0.03843525  0.02673525]\n [ 0.06101087 -1.0284868  -0.1182547 ]]\n矩阵叉乘法操作:  [[ 0.18482089  0.79122297  0.8281558 ]\n [-0.02844849 -4.33270243  0.01406832]\n [-1.00332284  0.03843525  0.02673525]\n [ 0.06101087 -1.0284868  -0.1182547 ]]\n矩阵除法操作:  [[ 0.49506183  2.42768941  1.96151681]\n [-0.08936752 -0.74471734 10.52010727]\n [-0.32509148  0.88298341  0.02732595]\n [ 1.39922693 -0.62762742 -5.89670699]]\n矩阵除法操作:  [[ 0.49506183  2.42768941  1.96151681]\n [-0.08936752 -0.74471734 10.52010727]\n [-0.32509148  0.88298341  0.02732595]\n [ 1.39922693 -0.62762742 -5.89670699]]\n矩阵加法操作： [[ 0.91349244 -1.95683562 -1.92430633]\n [ 0.51378671  0.61575084  0.42127682]\n [ 1.18566626 -0.39285754 -1.01616163]\n [ 0.50099208 -0.47667909 -0.69343945]]\n矩阵加法操作： [[ 0.91349244 -1.95683562 -1.92430633]\n [ 0.51378671  0.61575084  0.42127682]\n [ 1.18566626 -0.39285754 -1.01616163]\n [ 0.50099208 -0.47667909 -0.69343945]]\n"
     ]
    },
    {
     "name": "stdout",
     "output_type": "stream",
     "text": [
      "矩阵加法操作： [[-0.30852049 -0.81505445 -0.62476528]\n [-0.61463057 -4.20832019  0.34813917]\n [-2.32789516  0.02441384  0.96210366]\n [ 0.08336416  2.08354749 -0.9766663 ]]\n矩阵加法操作： [[-0.30852049 -0.81505445 -0.62476528]\n [-0.61463057 -4.20832019  0.34813917]\n [-2.32789516  0.02441384  0.96210366]\n [ 0.08336416  2.08354749 -0.9766663 ]]\n"
     ]
    }
   ],
   "source": [
    "with tf.Session() as sess:\n",
    "    print(\"a\", a)\n",
    "    print(\"b\", b)\n",
    "    print(\"c\", c)\n",
    "    print(\"=================\")\n",
    "\n",
    "    print(\"矩阵点乘法操作:\", sess.run((a @ b)))  # Since python >= 3.5 the @ operator is supported (see PEP 465).\n",
    "    print(\"矩阵点乘法操作: \", sess.run(tf.matmul(a, b)))\n",
    "\n",
    "    # 两个矩阵对应元素相乘\n",
    "    print(\"矩阵叉乘法操作: \", sess.run(a * c))\n",
    "    print(\"矩阵叉乘法操作: \", sess.run(tf.multiply(a, c)))\n",
    "\n",
    "    # 两个矩阵对应元素相除\n",
    "    print(\"矩阵除法操作: \", sess.run(a / c))\n",
    "    print(\"矩阵除法操作: \", sess.run(tf.divide(a, c)))\n",
    "\n",
    "    # 两个矩阵对应元素相加\n",
    "    print(\"矩阵加法操作：\", sess.run(a + c))\n",
    "    print(\"矩阵加法操作：\", sess.run(tf.add(a, c)))\n",
    "\n",
    "    # 两个矩阵对应元素相减\n",
    "    print(\"矩阵加法操作：\", sess.run(a - c))\n",
    "    print(\"矩阵加法操作：\", sess.run(tf.subtract(a, c)))\n"
   ]
  },
  {
   "cell_type": "code",
   "execution_count": 16,
   "metadata": {},
   "outputs": [],
   "source": [
    "    \n",
    "a_numpy = np.random.randn(4, 2)\n",
    "b_numpy = np.random.randn(4, 1)\n",
    "c_numpy = np.random.randn(1, 2)\n",
    "a = tf.constant(a_numpy)\n",
    "b = tf.constant(b_numpy)\n",
    "c = tf.constant(c_numpy)"
   ]
  },
  {
   "cell_type": "code",
   "execution_count": 17,
   "metadata": {},
   "outputs": [
    {
     "name": "stdout",
     "output_type": "stream",
     "text": [
      "a Tensor(\"Const_8:0\", shape=(4, 2), dtype=float64)\nb Tensor(\"Const_9:0\", shape=(4, 1), dtype=float64)\nc Tensor(\"Const_10:0\", shape=(1, 2), dtype=float64)\n矩阵叉乘法操作:  [[-0.49559309  1.12944744]\n [ 0.25322846 -0.2601183 ]\n [ 0.15893883  0.37959634]\n [-0.20953453  1.75767578]]\n矩阵叉乘法操作:  [[-0.49559309  1.12944744]\n [ 0.25322846 -0.2601183 ]\n [ 0.15893883  0.37959634]\n [-0.20953453  1.75767578]]\n矩阵叉乘法操作:  [[ 0.33252258 -0.34654902]\n [-0.57099296  0.26822046]\n [ 0.42179006  0.46067124]\n [-0.16788504  0.64401789]]\n矩阵叉乘法操作:  [[ 0.33252258 -0.34654902]\n [-0.57099296  0.26822046]\n [ 0.42179006  0.46067124]\n [-0.16788504  0.64401789]]\n矩阵除法操作:  [[-0.38415322  0.87547806]\n [ 2.21685065 -2.27716672]\n [ 1.92730353  4.60301223]\n [-0.23160923  1.94284894]]\n矩阵除法操作:  [[-0.38415322  0.87547806]\n [ 2.21685065 -2.27716672]\n [ 1.92730353  4.60301223]\n [-0.23160923  1.94284894]]\n矩阵除法操作:  [[ 0.57254362 -2.85329461]\n [-0.98314639  2.20838014]\n [ 0.72624604  3.79291438]\n [-0.28906762  5.30249014]]\n矩阵除法操作:  [[ 0.57254362 -2.85329461]\n [-0.98314639  2.20838014]\n [ 0.72624604  3.79291438]\n [-0.28906762  5.30249014]]\n矩阵加法操作： [[-0.69949248 -2.13020975]\n [-1.08722376  0.43165386]\n [ 0.84063545  1.60902026]\n [ 0.73085632  2.79909627]]\n"
     ]
    },
    {
     "name": "stdout",
     "output_type": "stream",
     "text": [
      "矩阵加法操作： [[-0.69949248 -2.13020975]\n [-1.08722376  0.43165386]\n [ 0.84063545  1.60902026]\n [ 0.73085632  2.79909627]]\n矩阵加法操作： [[ 1.19841982 -0.64588246]\n [ 0.01284396  1.11813657]\n [ 1.3155549   1.6703547 ]\n [ 0.54179448  2.19644942]]\n矩阵加法操作： [[ 1.19841982 -0.64588246]\n [ 0.01284396  1.11813657]\n [ 1.3155549   1.6703547 ]\n [ 0.54179448  2.19644942]]\n矩阵加法操作： [[ 1.57215206  0.14143479]\n [-0.41126837  1.10760924]\n [ 0.26629429  1.0346791 ]\n [-1.17144742  0.89679253]]\n矩阵加法操作： [[ 1.57215206  0.14143479]\n [-0.41126837  1.10760924]\n [ 0.26629429  1.0346791 ]\n [-1.17144742  0.89679253]]\n矩阵加法操作： [[-0.32576024 -1.34289249]\n [-1.5113361   0.42112654]\n [-0.20862516  0.97334467]\n [-0.98238558  1.49943939]]\n矩阵加法操作： [[-0.32576024 -1.34289249]\n [-1.5113361   0.42112654]\n [-0.20862516  0.97334467]\n [-0.98238558  1.49943939]]\n"
     ]
    }
   ],
   "source": [
    "\n",
    "with tf.Session() as sess:\n",
    "    print(\"a\", a)\n",
    "    print(\"b\", b)\n",
    "    print(\"c\", c)\n",
    "\n",
    "    # 叉乘广播 a.shape=[4,2]\n",
    "    print(\"矩阵叉乘法操作: \", sess.run(a * b))  # b.shape=[4,1]\n",
    "    print(\"矩阵叉乘法操作: \", sess.run(tf.multiply(a, b)))\n",
    "\n",
    "    print(\"矩阵叉乘法操作: \", sess.run(a * c))  # c.shape=[1,2]\n",
    "    print(\"矩阵叉乘法操作: \", sess.run(tf.multiply(a, c)))\n",
    "\n",
    "    # 除法的广播\n",
    "    print(\"矩阵除法操作: \", sess.run(a / b))\n",
    "    print(\"矩阵除法操作: \", sess.run(tf.divide(a, b)))\n",
    "\n",
    "    print(\"矩阵除法操作: \", sess.run(a / c))\n",
    "    print(\"矩阵除法操作: \", sess.run(tf.divide(a, c)))\n",
    "\n",
    "    # 矩阵加法的广播\n",
    "    print(\"矩阵加法操作：\", sess.run(a + b))\n",
    "    print(\"矩阵加法操作：\", sess.run(tf.add(a, b)))\n",
    "\n",
    "    print(\"矩阵加法操作：\", sess.run(a + c))\n",
    "    print(\"矩阵加法操作：\", sess.run(tf.add(a, c)))\n",
    "\n",
    "    # 减法的广播\n",
    "    print(\"矩阵加法操作：\", sess.run(a - b))\n",
    "    print(\"矩阵加法操作：\", sess.run(tf.subtract(a, b)))\n",
    "\n",
    "    print(\"矩阵加法操作：\", sess.run(a - c))\n",
    "    print(\"矩阵加法操作：\", sess.run(tf.subtract(a, c)))\n"
   ]
  },
  {
   "cell_type": "markdown",
   "metadata": {},
   "source": [
    "## 使用占位符传输数据"
   ]
  },
  {
   "cell_type": "code",
   "execution_count": 21,
   "metadata": {},
   "outputs": [],
   "source": [
    "# 创建占位符，形状为[1,]\n",
    "\n",
    "a = tf.placeholder(tf.int8, shape=[1])  # 传入一个8位整数\n",
    "b = tf.placeholder(tf.int8, shape=[1])  # 传入一个32位浮点数\n",
    "c = tf.placeholder(tf.float32, shape=[1])\n"
   ]
  },
  {
   "cell_type": "code",
   "execution_count": 26,
   "metadata": {},
   "outputs": [
    {
     "name": "stdout",
     "output_type": "stream",
     "text": [
      "a= Tensor(\"Placeholder_3:0\", shape=(1,), dtype=int8) b= Tensor(\"mul_15:0\", shape=(1,), dtype=int8)\na=[array([1], dtype=int8)]\nb=[array([1], dtype=int8)]\na*b=[array([2], dtype=int8)]\n"
     ]
    }
   ],
   "source": [
    "with tf.Session() as sess:\n",
    "    print(\"a=\", a, \"b=\", b)\n",
    "    print('a={}'.format(sess.run([a], feed_dict={a: [1]})))\n",
    "    print('b={}'.format(sess.run([b], feed_dict={b: [1.1]})))\n",
    "    print('a*b={}'.format(sess.run([a * b], feed_dict={a: [1], b: [2]})))\n",
    "    # print('a * b={}'.format(sess.run([a * b], feed_dict={b: [1.1]}))) # 报错\n"
   ]
  },
  {
   "cell_type": "code",
   "execution_count": null,
   "metadata": {},
   "outputs": [],
   "source": []
  }
 ],
 "metadata": {
  "kernelspec": {
   "display_name": "Python 2",
   "language": "python",
   "name": "python2"
  },
  "language_info": {
   "codemirror_mode": {
    "name": "ipython",
    "version": 2
   },
   "file_extension": ".py",
   "mimetype": "text/x-python",
   "name": "python",
   "nbconvert_exporter": "python",
   "pygments_lexer": "ipython2",
   "version": "2.7.6"
  }
 },
 "nbformat": 4,
 "nbformat_minor": 0
}
