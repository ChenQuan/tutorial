{
 "cells": [
  {
   "cell_type": "code",
   "execution_count": 1,
   "metadata": {
    "collapsed": true
   },
   "outputs": [
    {
     "name": "stdout",
     "output_type": "stream",
     "text": [
      "开启动态图模式\n"
     ]
    }
   ],
   "source": [
    "from __future__ import absolute_import, division, print_function\n",
    "\n",
    "import numpy as np\n",
    "import tensorflow as tf\n",
    "\n",
    "__author__ = 'Chen Quan'\n",
    "\n",
    "print(\"开启动态图模式\")\n",
    "tf.enable_eager_execution()"
   ]
  },
  {
   "cell_type": "code",
   "execution_count": 2,
   "metadata": {},
   "outputs": [
    {
     "name": "stdout",
     "output_type": "stream",
     "text": [
      "a= tf.Tensor(4, shape=(), dtype=int32)\na * b=8\n"
     ]
    }
   ],
   "source": [
    "\n",
    "a = tf.constant(4)\n",
    "b = tf.constant(2)\n",
    "print(\"a=\", a)\n",
    "# 未使用tf.Session()\n",
    "print(\"a * b={}\".format((a * b).numpy()))  # a * b=8\n"
   ]
  },
  {
   "cell_type": "code",
   "execution_count": 3,
   "metadata": {},
   "outputs": [
    {
     "name": "stdout",
     "output_type": "stream",
     "text": [
      "a * c=8\n"
     ]
    }
   ],
   "source": [
    "# 与numpy结合\n",
    "c = np.array(2)\n",
    "print(\"a * c={}\".format(a * c))"
   ]
  },
  {
   "cell_type": "code",
   "execution_count": 4,
   "metadata": {},
   "outputs": [
    {
     "name": "stdout",
     "output_type": "stream",
     "text": [
      "a * b=[16 12]\n"
     ]
    }
   ],
   "source": [
    "# 直接与python基本数据类型结合\n",
    "d = [4, 3]\n",
    "print('a * b={}'.format(a * d))\n"
   ]
  },
  {
   "cell_type": "code",
   "execution_count": null,
   "metadata": {},
   "outputs": [],
   "source": []
  }
 ],
 "metadata": {
  "kernelspec": {
   "display_name": "Python 2",
   "language": "python",
   "name": "python2"
  },
  "language_info": {
   "codemirror_mode": {
    "name": "ipython",
    "version": 2
   },
   "file_extension": ".py",
   "mimetype": "text/x-python",
   "name": "python",
   "nbconvert_exporter": "python",
   "pygments_lexer": "ipython2",
   "version": "2.7.6"
  }
 },
 "nbformat": 4,
 "nbformat_minor": 0
}
